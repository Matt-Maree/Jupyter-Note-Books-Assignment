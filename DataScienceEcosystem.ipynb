{
 "cells": [
  {
   "cell_type": "markdown",
   "id": "d28a1800-44ad-4594-ab99-055fdf046b25",
   "metadata": {},
   "source": [
    "# Data Science Tools and Ecosystem"
   ]
  },
  {
   "cell_type": "markdown",
   "id": "1f7fc042-70be-4789-9969-6a6382623974",
   "metadata": {},
   "source": [
    "In this notebook, Data Science Tools and Ecosystems are summarized "
   ]
  },
  {
   "cell_type": "markdown",
   "id": "016d2e46-277f-4082-8b0c-04e6316ec3b6",
   "metadata": {},
   "source": [
    "**Objectives:**\n",
    "<br>\n",
    "* Introduce common terms used in Data Science.\n",
    "* List popular languagues for Data Science.\n",
    "* Become familar with commom Data Science langues with some practial excercises.\n",
    "* Introduce GitHub for use in version control, collaboration, and documentation."
   ]
  },
  {
   "cell_type": "markdown",
   "id": "37a8e20f-0b90-4a18-8ee1-a574272baa3d",
   "metadata": {},
   "source": [
    "Some of the popular languages that Data Scientists use are:\n",
    "1. Python\n",
    "2. R\n",
    "3. SQL"
   ]
  },
  {
   "cell_type": "markdown",
   "id": "7312092d-c302-4b78-921e-5d6f977b1473",
   "metadata": {},
   "source": [
    "Some commonly used libraries for Data Science include: \n",
    "1. Python libraries:\n",
    "    1. Pandas\n",
    "    2. numpy\n",
    "    3. scikit-learn\n",
    "<br>\n",
    "<br>\n",
    "2. R libraries:\n",
    "    1. dplyr\n",
    "    2. ggplot2\n",
    "    3. caret"
   ]
  },
  {
   "cell_type": "markdown",
   "id": "b3b7cb83-ed20-464b-ada1-64fca761219c",
   "metadata": {},
   "source": [
    "| Data Science Tools |\n",
    "|:--------------------|\n",
    "| Jupyter Notebook    |\n",
    "| RStudio             |\n",
    "| VS Code             |"
   ]
  },
  {
   "cell_type": "markdown",
   "id": "ce16f035-a8a3-4497-963f-eb483d9988e4",
   "metadata": {},
   "source": [
    "### Below are a few examples of evaluating arithmetic expressions in Python:"
   ]
  },
  {
   "cell_type": "code",
   "execution_count": 3,
   "id": "4240db92-3e8a-4e09-b062-3c88abdb7bc4",
   "metadata": {},
   "outputs": [],
   "source": [
    "#This is a simple arithmetic expression to multiply then add integers. "
   ]
  },
  {
   "cell_type": "code",
   "execution_count": 2,
   "id": "2c6fdb4e-c662-4357-a250-daeb24709ea4",
   "metadata": {},
   "outputs": [
    {
     "data": {
      "text/plain": [
       "17"
      ]
     },
     "execution_count": 2,
     "metadata": {},
     "output_type": "execute_result"
    }
   ],
   "source": [
    "(3*4)+5"
   ]
  },
  {
   "cell_type": "code",
   "execution_count": 9,
   "id": "b6faeb3d-ac62-4673-81a2-6432d269d067",
   "metadata": {},
   "outputs": [],
   "source": [
    "#This will convert 200 minutes to hours by dividing by 60, and round the result to two decimal places. "
   ]
  },
  {
   "cell_type": "code",
   "execution_count": 10,
   "id": "85b3422c-83d2-4517-8689-47f7356dcc15",
   "metadata": {},
   "outputs": [
    {
     "name": "stdout",
     "output_type": "stream",
     "text": [
      "3.33\n"
     ]
    }
   ],
   "source": [
    "min = 200\n",
    "num = min/60\n",
    "rounded_num = round(num, 2)\n",
    "print (rounded_num)"
   ]
  },
  {
   "cell_type": "markdown",
   "id": "b8bd8e95-8b04-40ae-9d97-9e721ef375fe",
   "metadata": {},
   "source": [
    "## Author\n",
    "Matthew Maree"
   ]
  },
  {
   "cell_type": "code",
   "execution_count": null,
   "id": "def91c27-48cf-4d3b-9bd3-193eeee1603b",
   "metadata": {},
   "outputs": [],
   "source": []
  }
 ],
 "metadata": {
  "kernelspec": {
   "display_name": "Python 3 (ipykernel)",
   "language": "python",
   "name": "python3"
  },
  "language_info": {
   "codemirror_mode": {
    "name": "ipython",
    "version": 3
   },
   "file_extension": ".py",
   "mimetype": "text/x-python",
   "name": "python",
   "nbconvert_exporter": "python",
   "pygments_lexer": "ipython3",
   "version": "3.13.5"
  }
 },
 "nbformat": 4,
 "nbformat_minor": 5
}
